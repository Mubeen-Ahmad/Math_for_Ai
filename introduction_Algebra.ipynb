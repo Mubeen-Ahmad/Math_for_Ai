{
 "cells": [
  {
   "cell_type": "markdown",
   "id": "d112c01c-3846-4ff0-b43f-4b3e428d13f9",
   "metadata": {},
   "source": [
    "<h1 style=\"text-align:center; color:#005bbd; font-size:50px; font-family:Sans-serif; font-style: oblique; text-shadow: 0 0 3px white, 0 0 1px Black;\">What is Algebra ?</h1>\n",
    " "
   ]
  },
  {
   "cell_type": "markdown",
   "id": "fcd8f73e-6af5-4b3c-a09a-13d6d9fafa2e",
   "metadata": {},
   "source": [
    "<div style=\"text-align:justify; color:black; font-size:25px; font-family:Sans-serif; font-style: oblique; text-shadow: 0 0 3px white, 0 0 1px black;\">Algebra is a branch of mathematics that uses symbols and letters to represent numbers and quantities in formulae and equations.<ul>Quantities refer to the amount or volume of something. <br>They represent the numerical value or measure of a particular attribute or substance. <br>In mathematics and science, quantities are often expressed using numbers and units of measurement. <br>For example, if you have three apples, \"three\" represents the quantity of apples you have. Similarly, in physics, quantities such as length, mass, and time are expressed using numerical values and appropriate units</ul></div>\n",
    "\n"
   ]
  },
  {
   "cell_type": "markdown",
   "id": "248b6364-3549-4eea-b4ea-de082e562bb2",
   "metadata": {},
   "source": [
    "<h1 style=\"text-align:left; color:#005cad; font-size:35px; font-family:Sans-serif; font-style: oblique; text-shadow: 0 0 3px white, 0 0 1px Black;\">Term of Algebra ?</h1>\n",
    " "
   ]
  },
  {
   "cell_type": "markdown",
   "id": "1da66051-1642-41fa-a1db-8989d2a503c4",
   "metadata": {},
   "source": [
    "<div style=\"text-align:justify; color:black; font-size:25px; font-family:Sans-serif; font-style: oblique; text-shadow: 0 0 3px white, 0 0 1px black;\">The term “algebra” is derived from the Arabic word “al-jabr,” <br>which roughly translates to “reunion of broken parts.” <br><br>This term comes from the title of the book “Al-Kitab al-Mukhtasar fi Hisab al-Jabr wal-Muqabala” (The Compendious Book on Calculation by Completion and Balancing) <br>by the Persian mathematician Muhammad ibn Musa al-Khwarizmi, written around 820 AD.<img style=\"display: block; margin-left: auto; margin-right: auto; width: 20%; float: right; max-width: 10%;\" src=\"./images/ibn_musa.png\" alt=\"Ibn Musa\">\n",
    "\n",
    "</div>\n",
    "\n"
   ]
  },
  {
   "cell_type": "markdown",
   "id": "85e0f992-a9cc-4ab0-9770-78bdbd23b3e9",
   "metadata": {},
   "source": [
    "<h1 style=\"text-align:left; color:#005cad; font-size:35px; font-family:Sans-serif; font-style: oblique; text-shadow: 0 0 3px white, 0 0 1px Black;\">Pre-Algebra</h1>\n",
    " "
   ]
  },
  {
   "cell_type": "markdown",
   "id": "aba6ae0f-6d51-49fd-a207-105dd76f1d95",
   "metadata": {},
   "source": [
    "<div style=\"text-align:justify; color:black; font-size:25px; font-family:Sans-serif; font-style: oblique; text-shadow: 0 0 3px white, 0 0 1px black;\">Pre-algebra refers to the fundamental math concepts taught before advanced algebra.<br>It includes basic arithmetic, properties of numbers, fractions, decimals, ratios, proportions, and basic equations, serving as a foundation for more complex algebraic topics.</div>\n",
    "\n",
    "\n"
   ]
  },
  {
   "cell_type": "markdown",
   "id": "30b66d4d-344f-4abd-98a0-26f4273201d8",
   "metadata": {},
   "source": [
    "<h1 style=\"text-align:left; color:green; font-size:35px; font-family:Sans-serif; font-style: oblique; text-shadow: 0 0 3px white, 0 0 1px Black;\"><ul><li>Number Patterns</li><br>\n",
    "</ul>\n",
    "</h1>\n",
    "<div style=\"text-align:justify; color:black; font-size:25px; font-family:Sans-serif; font-style: oblique; text-shadow: 0 0 3px white, 0 0 1px black;\"><ul>Number patterns are sequences of numbers that follow a specific rule or pattern. <br>These can include arithmetic sequences <br>(where numbers increase or decrease by a constant amount) <br> or <br>geometric sequences <br>(where numbers are multiplied or divided by a constant ratio). etc<br><br>Recognizing number patterns helps in problem-solving and understanding mathematical relationships.</ul>\n",
    "</div>\n",
    "\n"
   ]
  },
  {
   "cell_type": "markdown",
   "id": "eece6454-8a53-48bd-9b21-7578936b5975",
   "metadata": {},
   "source": [
    "<h1 style=\"text-align:left; color:red; font-size:30px; font-family:Sans-serif; font-style: oblique; text-shadow: 0 0 3px white, 0 0 1px Black;\">Arithmetic Sequences</h1>\n"
   ]
  },
  {
   "cell_type": "markdown",
   "id": "3929ff3d-5025-4ddf-8828-ad26d4f58749",
   "metadata": {},
   "source": [
    "<div style=\"text-align:justify; color:black; font-size:25px; font-family:Sans-serif; font-style: oblique; text-shadow: 0 0 3px white, 0 0 1px black;\">Arithmetic sequences are sequences where each term is obtained by adding or subtracting a constant value from the previous term.<br><br>Example 1<br>\n",
    "    <ul> 1, 4, 7, 10, 13, 16, 19, 22, 25<br><br>\n",
    "        This sequence has a difference of 3 between each number.<br>\n",
    "        The pattern is continued by adding 3 to the last number each time, like this:\n",
    "        <img style=\"display: block; margin-left: auto; margin-right: auto; width: 40%; float: left; max-width: 40%;\" src=\"./images/ar_seq.png\"></ul><br><br>\n",
    "<br><br>Example 2<br>\n",
    "     <ul> 3, 8, 13, 18, 23, 28, 33, 38, ...\n",
    "         <br><br>\n",
    "        This sequence has a difference of 5 between each number.<br>\n",
    "The pattern is continued by adding 5 to the last number each time, like this\n",
    "        <img style=\"display: block; margin-left: auto; margin-right: auto; width: 40%; float: left; max-width: 40%;\" src=\"./images/ar_seq2.png\"></ul>\n",
    "    <br><br>\n",
    "<br><br>Example 3<br>\n",
    "     <ul> 25, 23, 21, 19, 17, 15, ...\n",
    "         <br><br>\n",
    "This common difference is −2<br>\n",
    "The pattern is continued by subtracting 2 each time, like this:\n",
    "        <img style=\"display: block; margin-left: auto; margin-right: auto; width: 40%; float: left; max-width: 40%;\" src=\"./images/ar_seq3.png\"></ul>\n",
    "</div>\n",
    "\n"
   ]
  },
  {
   "cell_type": "markdown",
   "id": "be7ffd50-8594-437e-9a90-211c0f0d5ae3",
   "metadata": {},
   "source": [
    "<h1 style=\"text-align:left; color:red; font-size:30px; font-family:Sans-serif; font-style: oblique; text-shadow: 0 0 3px white, 0 0 1px Black;\">Geometric Sequences\n",
    "</h1>\n",
    "\n"
   ]
  },
  {
   "cell_type": "markdown",
   "id": "b549122a-63ff-4a97-b797-b90bf2f69d2f",
   "metadata": {},
   "source": [
    "<div style=\"text-align:justify; color:black; font-size:25px; font-family:Sans-serif; font-style: oblique; text-shadow: 0 0 3px white, 0 0 1px black;\">Geometric sequences are sequences where each term is obtained by multiplying or dividing a constant value by the previous term.<br><br>Example<br>\n",
    "    <ul> 1, 3, 9, 27, 81,243, ...<br><br>\n",
    "        This sequence has a factor of 3 between each number.<br>\n",
    "The pattern is continued by multiplying by 3 each time, like this:\n",
    "        <img style=\"display: block; margin-left: auto; margin-right: auto; width: 40%; float: left; max-width: 40%;\" src=\"./images/geo_seq1.svg\"></ul><br><br>\n",
    "\n",
    "</div>\n",
    "\n",
    "\n",
    "\n"
   ]
  },
  {
   "cell_type": "markdown",
   "id": "2c0197a9-f91e-49d2-8f6a-dc8099ec29a6",
   "metadata": {},
   "source": [
    "<h1 style=\"text-align:left; color:red; font-size:30px; font-family:Sans-serif; font-style: oblique; text-shadow: 0 0 3px white, 0 0 1px Black;\">Triangular Numbers\n",
    "</h1>\n",
    "\n",
    "\n"
   ]
  },
  {
   "cell_type": "markdown",
   "id": "06d08b20-e0bd-458e-bbbb-364a9d9dc675",
   "metadata": {},
   "source": [
    "<div style=\"text-align:justify; color:black; font-size:25px; font-family:Sans-serif; font-style: oblique; text-shadow: 0 0 3px white, 0 0 1px black;\">Triangular numbers are a sequence where each term represents the total number of objects that can form an equilateral triangle.<br><br>Example<br>\n",
    "    <ul> 1, 3, 6, 10, 15, 21, 28, 36, 45, ...<br><br>\n",
    "By adding another row of dots and counting all the dots we can find the next number of the sequence:<br><br>\n",
    "        <img style=\"display: block; margin-left: auto; margin-right: auto; width: 40%; float: left; max-width: 40%;\" src=\"./images/tri_seq1.svg\"></ul><br><br>\n",
    "\n",
    "</div>\n",
    "\n",
    "\n"
   ]
  },
  {
   "cell_type": "markdown",
   "id": "4f47219a-010b-4a71-ad9c-056fce60e9f0",
   "metadata": {},
   "source": [
    "<h1 style=\"text-align:left; color:red; font-size:30px; font-family:Sans-serif; font-style: oblique; text-shadow: 0 0 3px white, 0 0 1px Black;\">Square Numbers\n",
    "</h1>\n"
   ]
  },
  {
   "cell_type": "markdown",
   "id": "ed53bbd3-fba7-48ce-bd9a-9441b50700af",
   "metadata": {},
   "source": [
    "<div style=\"text-align:justify; color:black; font-size:25px; font-family:Sans-serif; font-style: oblique; text-shadow: 0 0 3px white, 0 0 1px black;\">Square numbers are numbers that result from multiplying an integer by itself.<br><br>Example<br>\n",
    "    <ul> 0, 1, 4, 9, 16, 25, 36, 49, 64, 81, ...<br><br>\n",
    "<ul>0 (=0×0)<br>\n",
    "1 (=1×1)<br>\n",
    "4 (=2×2)<br>\n",
    "9 (=3×3)<br>\n",
    "16 (=4×4)<br>\n",
    "etc...</ul>\n",
    "    </ul>\n",
    "</div>\n",
    "\n",
    "\n"
   ]
  },
  {
   "cell_type": "markdown",
   "id": "08ab7a87-d3be-42d5-9e8d-68dbaf0f7dc7",
   "metadata": {},
   "source": [
    "<h1 style=\"text-align:left; color:red; font-size:30px; font-family:Sans-serif; font-style: oblique; text-shadow: 0 0 3px white, 0 0 1px Black;\">Cube Numbers\n",
    "</h1>\n"
   ]
  },
  {
   "cell_type": "markdown",
   "id": "d4590869-1997-4878-a45b-33092cee3fcb",
   "metadata": {},
   "source": [
    "<div style=\"text-align:justify; color:black; font-size:25px; font-family:Sans-serif; font-style: oblique; text-shadow: 0 0 3px white, 0 0 1px black;\">Cube numbers are numbers that result from multiplying an integer by itself twice.<br><br>Example <br>\n",
    "    <ul>  1, 8, 27, 64,125,216,343,512,729, ...<br><br>\n",
    "<ul>1 (=1×1×1)<br>\n",
    "8 (=2×2×2)<br>\n",
    "27 (=3×3×3)<br>\n",
    "64 (=4×4×4)<br>\n",
    "etc...</ul>\n",
    "    </ul>\n",
    "</div>\n",
    "\n",
    "\n"
   ]
  },
  {
   "cell_type": "markdown",
   "id": "291e3dec-c8cc-441b-ab12-1cd34dc2844b",
   "metadata": {},
   "source": [
    "<h1 style=\"text-align:left; color:red; font-size:30px; font-family:Sans-serif; font-style: oblique; text-shadow: 0 0 3px white, 0 0 1px Black;\">Fibonacci Numbers\n",
    "</h1>\n"
   ]
  },
  {
   "cell_type": "markdown",
   "id": "e3ae1a0b-35ee-4789-8b73-e07c8a1459ab",
   "metadata": {},
   "source": [
    "<div style=\"text-align:justify; color:black; font-size:25px; font-family:Sans-serif; font-style: oblique; text-shadow: 0 0 3px white, 0 0 1px black;\">The Fibonacci Sequence is found by adding the two numbers before it together.\n",
    "<br><br>Example<br>\n",
    "    <ul>  0, 1, 1, 2, 3, 5, 8, 13, 21, 34, ...<br><br>\n",
    "The 1 is found by adding the two numbers before it (0+1)<br>\n",
    "The 2 is found by adding the two numbers before it (1+1)<br>\n",
    "The 21 is found by adding the two numbers before it (8+13)<br>\n",
    "The next number in the sequence above would be 55 (21+34)<br>\n",
    "</ul>\n",
    "</div>\n",
    "\n",
    "\n"
   ]
  },
  {
   "cell_type": "code",
   "execution_count": 4,
   "id": "6d6f745a-e2e4-438d-b8d2-c62fb5c6a15c",
   "metadata": {},
   "outputs": [],
   "source": [
    "import requests"
   ]
  },
  {
   "cell_type": "code",
   "execution_count": 21,
   "id": "20ca7153-7ec2-4f25-80c4-d7f0b9095262",
   "metadata": {},
   "outputs": [],
   "source": [
    "\n",
    "r = requests.get('https://www.mathsisfun.com/numbers/images/triangular-number-dots.svg')"
   ]
  },
  {
   "cell_type": "code",
   "execution_count": 22,
   "id": "f5810969-47c2-4b09-815d-a928e21ca8d6",
   "metadata": {},
   "outputs": [],
   "source": [
    "with open('/home/mubeen/Downloads/tri_seq1.svg','wb') as f:\n",
    "    f.write(r.content)"
   ]
  }
 ],
 "metadata": {
  "kernelspec": {
   "display_name": "Python 3 (ipykernel)",
   "language": "python",
   "name": "python3"
  },
  "language_info": {
   "codemirror_mode": {
    "name": "ipython",
    "version": 3
   },
   "file_extension": ".py",
   "mimetype": "text/x-python",
   "name": "python",
   "nbconvert_exporter": "python",
   "pygments_lexer": "ipython3",
   "version": "3.10.12"
  }
 },
 "nbformat": 4,
 "nbformat_minor": 5
}
